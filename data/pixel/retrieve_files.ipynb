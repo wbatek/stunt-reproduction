{
 "cells": [
  {
   "cell_type": "code",
   "id": "initial_id",
   "metadata": {
    "collapsed": true,
    "ExecuteTime": {
     "end_time": "2025-01-31T01:16:55.595682Z",
     "start_time": "2025-01-31T01:16:55.373605Z"
    }
   },
   "source": [
    "from sklearn.model_selection import train_test_split\n",
    "from sklearn.preprocessing import LabelEncoder, MinMaxScaler\n",
    "from scipy.io import arff\n",
    "import numpy as np\n",
    "\n",
    "# Load the ARFF file\n",
    "data, meta = arff.loadarff('phpzRUhOO.arff')\n",
    "\n",
    "# Convert structured array to NumPy array\n",
    "data_array = np.array(data.tolist(), dtype=object)\n",
    "\n",
    "# Separate features and target variable\n",
    "X = data_array[:, 1:]  # Features start from index 1 (excluding the first column)\n",
    "y = data_array[:, 0]  # Labels are in the first column\n",
    "\n",
    "\n",
    "# Decode target variable if it's in bytes\n",
    "if isinstance(y[0], bytes):\n",
    "    y = np.array([label.decode('utf-8') for label in y])\n",
    "\n",
    "# Encode class labels\n",
    "label_encoder = LabelEncoder()\n",
    "y = label_encoder.fit_transform(y)\n",
    "print(np.unique(y))\n",
    "\n",
    "# Scale numerical features\n",
    "scaler = MinMaxScaler()\n",
    "X = scaler.fit_transform(X.astype(float))  # Ensure numeric conversion\n",
    "\n",
    "# Split data into training, validation, and test sets\n",
    "X_train, X_test, y_train, y_test = train_test_split(X, y, test_size=0.2, random_state=42)\n",
    "X_train, X_val, y_train, y_val = train_test_split(X_train, y_train, test_size=0.2, random_state=42)\n",
    "\n",
    "# Print dataset shapes\n",
    "print(\"Train set size:\", X_train.shape)\n",
    "print(\"Validation set size:\", X_val.shape)\n",
    "print(\"Test set size:\", X_test.shape)\n",
    "\n",
    "# Save datasets as NumPy arrays\n",
    "np.save(\"train_x.npy\", X_train)\n",
    "np.save(\"val_x.npy\", X_val)\n",
    "np.save(\"xtest.npy\", X_test)\n",
    "np.save(\"ytrain.npy\", y_train)\n",
    "np.save(\"yval.npy\", y_val)\n",
    "np.save(\"ytest.npy\", y_test)\n"
   ],
   "outputs": [
    {
     "name": "stdout",
     "output_type": "stream",
     "text": [
      "[0 1 2 3 4 5 6 7 8 9]\n",
      "Train set size: (1280, 240)\n",
      "Validation set size: (320, 240)\n",
      "Test set size: (400, 240)\n"
     ]
    }
   ],
   "execution_count": 5
  },
  {
   "metadata": {},
   "cell_type": "code",
   "outputs": [],
   "execution_count": null,
   "source": "",
   "id": "ac8cc217a347a31b"
  }
 ],
 "metadata": {
  "kernelspec": {
   "display_name": "Python 3",
   "language": "python",
   "name": "python3"
  },
  "language_info": {
   "codemirror_mode": {
    "name": "ipython",
    "version": 2
   },
   "file_extension": ".py",
   "mimetype": "text/x-python",
   "name": "python",
   "nbconvert_exporter": "python",
   "pygments_lexer": "ipython2",
   "version": "2.7.6"
  }
 },
 "nbformat": 4,
 "nbformat_minor": 5
}
