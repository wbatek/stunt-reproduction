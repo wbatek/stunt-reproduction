{
 "cells": [
  {
   "cell_type": "code",
   "id": "initial_id",
   "metadata": {
    "collapsed": true,
    "ExecuteTime": {
     "end_time": "2025-02-07T00:37:54.808337Z",
     "start_time": "2025-02-07T00:37:50.672706Z"
    }
   },
   "source": [
    "from sklearn.model_selection import train_test_split\n",
    "from sklearn.preprocessing import LabelEncoder, MinMaxScaler, OneHotEncoder\n",
    "from sklearn.compose import ColumnTransformer\n",
    "from scipy.io import arff\n",
    "import numpy as np\n",
    "import pandas as pd\n",
    "\n",
    "# Load the ARFF file\n",
    "data, meta = arff.loadarff('dataset_23_cmc.arff')\n",
    "\n",
    "# Convert structured array to DataFrame\n",
    "df = pd.DataFrame(data)\n",
    "\n",
    "# Decode byte strings (if necessary)\n",
    "for col in df.select_dtypes([np.object_]):\n",
    "    df[col] = df[col].str.decode('utf-8')\n",
    "# Separate features and target variable\n",
    "y = df.iloc[:, -1]  # Labels are in the first column\n",
    "X = df.iloc[:, :-1]  # Features start from index 1\n",
    "\n",
    "# Encode class labels\n",
    "label_encoder = LabelEncoder()\n",
    "y = label_encoder.fit_transform(y)\n",
    "\n",
    "# Identify categorical and numerical columns\n",
    "categorical_cols = X.select_dtypes(include=['object']).columns.tolist()\n",
    "numerical_cols = X.select_dtypes(include=['number']).columns.tolist()\n",
    "\n",
    "# Define preprocessing steps\n",
    "preprocessor = ColumnTransformer([\n",
    "    ('onehot', OneHotEncoder(handle_unknown='ignore'), categorical_cols),\n",
    "    ('scaler', MinMaxScaler(), numerical_cols)\n",
    "])\n",
    "\n",
    "\n",
    "# Apply transformations\n",
    "X = preprocessor.fit_transform(X)\n",
    "\n",
    "# Split data into training, validation, and test sets\n",
    "X_train, X_test, y_train, y_test = train_test_split(X, y, test_size=0.2, random_state=42)\n",
    "X_train, X_val, y_train, y_val = train_test_split(X_train, y_train, test_size=0.2, random_state=42)\n",
    "\n",
    "# Print dataset shapes\n",
    "print(\"Train set size:\", X_train.shape)\n",
    "print(\"Validation set size:\", X_val.shape)\n",
    "print(\"Test set size:\", X_test.shape)\n",
    "\n",
    "# Save datasets as NumPy arrays\n",
    "np.save(\"train_x.npy\", X_train)\n",
    "np.save(\"val_x.npy\", X_val)\n",
    "np.save(\"xtest.npy\", X_test)\n",
    "np.save(\"ytrain.npy\", y_train)\n",
    "np.save(\"yval.npy\", y_val)\n",
    "np.save(\"ytest.npy\", y_test)\n"
   ],
   "outputs": [
    {
     "name": "stdout",
     "output_type": "stream",
     "text": [
      "Train set size: (942, 24)\n",
      "Validation set size: (236, 24)\n",
      "Test set size: (295, 24)\n"
     ]
    }
   ],
   "execution_count": 1
  },
  {
   "metadata": {},
   "cell_type": "code",
   "outputs": [],
   "execution_count": null,
   "source": "",
   "id": "7b71cc94b1ef5451"
  }
 ],
 "metadata": {
  "kernelspec": {
   "display_name": "Python 3",
   "language": "python",
   "name": "python3"
  },
  "language_info": {
   "codemirror_mode": {
    "name": "ipython",
    "version": 2
   },
   "file_extension": ".py",
   "mimetype": "text/x-python",
   "name": "python",
   "nbconvert_exporter": "python",
   "pygments_lexer": "ipython2",
   "version": "2.7.6"
  }
 },
 "nbformat": 4,
 "nbformat_minor": 5
}
